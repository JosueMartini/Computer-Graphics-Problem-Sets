{
 "cells": [
  {
   "cell_type": "markdown",
   "id": "3c08bbe7-ce1c-4cc5-8d27-eb1fc98250b3",
   "metadata": {},
   "source": [
    "# Josue Martinez"
   ]
  },
  {
   "cell_type": "markdown",
   "id": "cef93688-0dbe-463f-bd2f-da3329ab6a91",
   "metadata": {},
   "source": [
    "##### Problem Set 3 - Geometric Transformations"
   ]
  },
  {
   "cell_type": "markdown",
   "id": "e0fa04d2-370f-4589-9a1b-5384994bc01b",
   "metadata": {},
   "source": [
    "##### CS 3323 - Computer Graphics"
   ]
  },
  {
   "cell_type": "markdown",
   "id": "87a3f371-47d6-484c-8203-dba1588ee681",
   "metadata": {
    "jp-MarkdownHeadingCollapsed": true
   },
   "source": [
    "##### October 9, 2023"
   ]
  },
  {
   "cell_type": "markdown",
   "id": "6d00f8a5-1e7a-468b-9a50-5264e0b0d978",
   "metadata": {},
   "source": [
    "### Imports and Libraries"
   ]
  },
  {
   "cell_type": "code",
   "execution_count": 3,
   "id": "807e4c36-733a-4447-a817-22300948b3ee",
   "metadata": {},
   "outputs": [],
   "source": [
    "import numpy as np\n",
    "import math\n",
    "from PIL import Image\n",
    "from matplotlib import pyplot as plt"
   ]
  },
  {
   "cell_type": "markdown",
   "id": "11d4805d-776d-43e8-a265-25e1b550f3a7",
   "metadata": {},
   "source": [
    "### Global Variables"
   ]
  },
  {
   "cell_type": "code",
   "execution_count": 4,
   "id": "9239d07c-ba22-4dd3-8b21-8e8e1ad7fdd8",
   "metadata": {},
   "outputs": [],
   "source": [
    "path = \"C:/Users/josue/OneDrive/Desktop/Images/\"\n",
    "img1 = Image.open(path + \"img1.jpg\")\n",
    "img2 = Image.open(path + \"img2.jpg\")\n",
    "img3 = Image.open(path + \"img3.jpg\")\n",
    "img4 = Image.open(path + \"img4.jpg\")\n",
    "img5 = Image.open(path + \"img5.jpg\")\n",
    "img6 = Image.open(path + \"img6.jpg\")\n",
    "# img7 = Image.open(path + \"img7.jpg\")\n",
    "img8 = Image.open(path + \"img8.jpg\")\n",
    "img9 = Image.open(path + \"img9.jpg\")\n",
    "img10 = Image.open(path + \"img10.jpg\")\n",
    "img11 = Image.open(path + \"img11.jpg\")"
   ]
  },
  {
   "cell_type": "markdown",
   "id": "395e4450-17f9-4b2d-afaf-a21728b102bd",
   "metadata": {},
   "source": [
    "### Image 1"
   ]
  },
  {
   "cell_type": "code",
   "execution_count": 19,
   "id": "3fe823ab-77d1-4963-be00-228141ccb52e",
   "metadata": {},
   "outputs": [
    {
     "ename": "TypeError",
     "evalue": "cannot unpack non-iterable int object",
     "output_type": "error",
     "traceback": [
      "\u001b[1;31m---------------------------------------------------------------------------\u001b[0m",
      "\u001b[1;31mTypeError\u001b[0m                                 Traceback (most recent call last)",
      "Cell \u001b[1;32mIn[19], line 9\u001b[0m\n\u001b[0;32m      6\u001b[0m move_pixels \u001b[38;5;241m=\u001b[39m \u001b[38;5;241m4\u001b[39m\n\u001b[0;32m      8\u001b[0m \u001b[38;5;66;03m# Get the dimensions of the image\u001b[39;00m\n\u001b[1;32m----> 9\u001b[0m nrows, ncols \u001b[38;5;241m=\u001b[39m img1\u001b[38;5;241m.\u001b[39msize\n\u001b[0;32m     11\u001b[0m \u001b[38;5;66;03m# Create an empty list to store the frames\u001b[39;00m\n\u001b[0;32m     12\u001b[0m frames \u001b[38;5;241m=\u001b[39m []\n",
      "\u001b[1;31mTypeError\u001b[0m: cannot unpack non-iterable int object"
     ]
    }
   ],
   "source": [
    "\n",
    "\n",
    "# Load your arrow image (img1) here using PIL or any other method\n",
    "# For example, you can load it with PIL like this:\n",
    "# img1 = Image.open('arrow_image.png')\n",
    "\n",
    "# Define the number of pixels to move the arrow up in each frame\n",
    "move_pixels = 4\n",
    "\n",
    "# Get the dimensions of the image\n",
    "nrows, ncols = img1.size\n",
    "\n",
    "# Create an empty list to store the frames\n",
    "frames = []\n",
    "\n",
    "# Set the number of frames you want in your GIF\n",
    "num_frames = 10\n",
    "\n",
    "# Loop to create the frames\n",
    "for frame_num in range(num_frames):\n",
    "    # Create a copy of the original image\n",
    "    frame = img1.copy()\n",
    "    \n",
    "    # Calculate the new position for the arrow by moving it up\n",
    "    new_position = max(0, nrows - move_pixels * (frame_num + 1))\n",
    "    \n",
    "    # Crop the arrow image to the new position\n",
    "    cropped_arrow = frame.crop((0, new_position, ncols, nrows))\n",
    "    \n",
    "    # Append the cropped arrow image to the list of frames\n",
    "    frames.append(cropped_arrow)\n",
    "\n",
    "# Create the GIF\n",
    "frames[0].save(\"arrow_animation.gif\", save_all=True, append_images=frames[1:], duration=100, loop=0)\n"
   ]
  },
  {
   "cell_type": "code",
   "execution_count": null,
   "id": "e33dcfa8-5ad2-4c21-a1b5-b5968f51d1f7",
   "metadata": {},
   "outputs": [],
   "source": [
    "\n"
   ]
  },
  {
   "cell_type": "code",
   "execution_count": 10,
   "id": "f5f61c94-6b07-47f9-bfe3-0d229ca8564c",
   "metadata": {},
   "outputs": [],
   "source": [
    "# test cases and output (be sure to include all test cases as indicated)\n",
    "\n"
   ]
  },
  {
   "cell_type": "markdown",
   "id": "4357c348-c15d-43c0-8030-c8d79ae8d49b",
   "metadata": {},
   "source": [
    "### Image 2"
   ]
  },
  {
   "cell_type": "code",
   "execution_count": 11,
   "id": "6ee17552-742b-4b0a-beb5-6999de7c2c8d",
   "metadata": {},
   "outputs": [],
   "source": [
    "# code and method definitions\n"
   ]
  },
  {
   "cell_type": "code",
   "execution_count": null,
   "id": "f507661d-7302-44c3-886c-1cfd9055f15d",
   "metadata": {},
   "outputs": [],
   "source": []
  },
  {
   "cell_type": "code",
   "execution_count": 12,
   "id": "668a649b-e170-4c16-a950-15efe19b3837",
   "metadata": {},
   "outputs": [],
   "source": [
    "# test cases and output (be sure to include all test cases as indicated)\n"
   ]
  },
  {
   "cell_type": "markdown",
   "id": "c99011ae-e9ec-4548-a75c-427a59b22c94",
   "metadata": {},
   "source": [
    "### Image 3"
   ]
  },
  {
   "cell_type": "code",
   "execution_count": 13,
   "id": "9b5d7af7-d0a1-43d6-af45-9a0f35d69edc",
   "metadata": {
    "scrolled": true
   },
   "outputs": [],
   "source": [
    "# code and method definitions\n"
   ]
  },
  {
   "cell_type": "code",
   "execution_count": null,
   "id": "81fc0f9d-7de3-4933-ba5a-b0643a2f07ac",
   "metadata": {},
   "outputs": [],
   "source": []
  },
  {
   "cell_type": "code",
   "execution_count": 14,
   "id": "6eef282c-b8e1-45e3-b3fe-790cebbd149b",
   "metadata": {},
   "outputs": [],
   "source": [
    "# test cases and output (be sure to include all test cases as indicated)\n"
   ]
  },
  {
   "cell_type": "markdown",
   "id": "fe3aeb39-bbdf-43cf-9134-1a732d833393",
   "metadata": {},
   "source": [
    "### Image 4"
   ]
  },
  {
   "cell_type": "code",
   "execution_count": 15,
   "id": "82312726-cc5e-479e-8660-9091962b1bea",
   "metadata": {},
   "outputs": [],
   "source": [
    "# code and method definitions\n",
    "\n"
   ]
  },
  {
   "cell_type": "code",
   "execution_count": null,
   "id": "23005609-c5b2-4e1b-be7d-156db4c429f7",
   "metadata": {},
   "outputs": [],
   "source": []
  },
  {
   "cell_type": "code",
   "execution_count": 16,
   "id": "2fa5bc41-99ef-4ce9-8ee5-584254ac8dff",
   "metadata": {},
   "outputs": [],
   "source": [
    "# test cases and output (be sure to include all test cases as indicated)\n",
    "\n"
   ]
  },
  {
   "cell_type": "markdown",
   "id": "e4c1e92c-7fe8-4220-80aa-fa7a4dd307ac",
   "metadata": {},
   "source": [
    "### Image 5"
   ]
  },
  {
   "cell_type": "code",
   "execution_count": 17,
   "id": "7402e9d5-a4b3-45ac-ae8a-a167a14bab21",
   "metadata": {},
   "outputs": [],
   "source": [
    "# code and method definitions\n"
   ]
  },
  {
   "cell_type": "code",
   "execution_count": null,
   "id": "6fc16b6d-124c-4467-aa6f-0d14c983ad71",
   "metadata": {},
   "outputs": [],
   "source": []
  },
  {
   "cell_type": "code",
   "execution_count": 18,
   "id": "bc15b002-a7c8-446a-ab1c-0ce63752c472",
   "metadata": {},
   "outputs": [],
   "source": [
    "# test cases and output (be sure to include all test cases as indicated)\n",
    "\n"
   ]
  },
  {
   "cell_type": "markdown",
   "id": "5e246e48-efff-42ae-8b5a-5f63eeb825bc",
   "metadata": {},
   "source": [
    "### Image 6"
   ]
  },
  {
   "cell_type": "code",
   "execution_count": null,
   "id": "db221f1a-7853-431a-ab36-af6cdd344487",
   "metadata": {},
   "outputs": [],
   "source": [
    "# code and method definitions"
   ]
  },
  {
   "cell_type": "code",
   "execution_count": null,
   "id": "37777052-97a4-4886-b87d-0cbcfbb27cda",
   "metadata": {},
   "outputs": [],
   "source": []
  },
  {
   "cell_type": "code",
   "execution_count": null,
   "id": "7a50a218-5ff4-4fa4-b7ee-73d0f27654be",
   "metadata": {},
   "outputs": [],
   "source": [
    "# test cases and output (be sure to include all test cases as indicated)\n"
   ]
  }
 ],
 "metadata": {
  "kernelspec": {
   "display_name": "Python 3 (ipykernel)",
   "language": "python",
   "name": "python3"
  },
  "language_info": {
   "codemirror_mode": {
    "name": "ipython",
    "version": 3
   },
   "file_extension": ".py",
   "mimetype": "text/x-python",
   "name": "python",
   "nbconvert_exporter": "python",
   "pygments_lexer": "ipython3",
   "version": "3.11.4"
  }
 },
 "nbformat": 4,
 "nbformat_minor": 5
}
